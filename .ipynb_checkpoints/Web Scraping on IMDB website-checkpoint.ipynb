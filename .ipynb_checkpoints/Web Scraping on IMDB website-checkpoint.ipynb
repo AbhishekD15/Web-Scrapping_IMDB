{
 "cells": [
  {
   "cell_type": "markdown",
   "metadata": {},
   "source": [
    "<h1> Scraping IMDB Movie Ratings </h1>"
   ]
  },
  {
   "cell_type": "markdown",
   "metadata": {},
   "source": [
    "We want to scrap movie in the year 2019, sort the movies on the first page by number of votes, then switch to the next page. \n",
    "\n",
    "We will use the **get()** function from the **requests** module and assign the address of the web page to a variable named url."
   ]
  },
  {
   "cell_type": "code",
   "execution_count": 2,
   "metadata": {},
   "outputs": [
    {
     "name": "stdout",
     "output_type": "stream",
     "text": [
      "\n",
      "\n",
      "\n",
      "<!DOCTYPE html>\n",
      "<html\n",
      "    xmlns:og=\"http://ogp.me/ns#\"\n",
      "    xmlns:fb=\"http://www.facebook.com/2008/fbml\">\n",
      "    <head>\n",
      "         \n",
      "        <meta charset=\"utf-8\">\n",
      "        <meta http-equiv=\"X-UA-Compatible\" content=\"IE=edge\">\n",
      "\n",
      "    <meta name=\"apple-itunes-app\" content=\"app-id=342792525, app-argument=imdb:///?src=mdot\">\n",
      "\n",
      "\n",
      "\n",
      "        <script type=\"text/javascript\">var IMDbTimer={starttime: new Date().getTime(),pt:'java'};</script>\n",
      "\n",
      "<script>\n",
      "    if (typeof uet == 'function') {\n",
      "      uet(\"bb\", \"LoadTitle\"\n"
     ]
    }
   ],
   "source": [
    "from requests import get\n",
    "url = 'https://www.imdb.com/search/title/?release_date=2019&sort=num_votes,desc&page=2&ref_=adv_nxt'\n",
    "response = get(url)\n",
    "print(response.text[:500])"
   ]
  },
  {
   "cell_type": "markdown",
   "metadata": {},
   "source": [
    "We’ll use a module called **BeautifulSoup** to parse our HTML document. "
   ]
  },
  {
   "cell_type": "code",
   "execution_count": 2,
   "metadata": {},
   "outputs": [
    {
     "data": {
      "text/plain": [
       "bs4.BeautifulSoup"
      ]
     },
     "execution_count": 2,
     "metadata": {},
     "output_type": "execute_result"
    }
   ],
   "source": [
    "from bs4 import BeautifulSoup\n",
    "html_soup = BeautifulSoup(response.text, 'html.parser')\n",
    "type(html_soup)"
   ]
  },
  {
   "cell_type": "markdown",
   "metadata": {},
   "source": [
    "On inspecting the HTML page of the container we are interested, we’ll notice that the class attribute has two values: lister-item and mode-advanced. This combination is unique to these div containers. Therefore, we will use **find_all()** method to extract all the div containers that have a class attribute of lister-item mode-advanced."
   ]
  },
  {
   "cell_type": "code",
   "execution_count": 3,
   "metadata": {},
   "outputs": [
    {
     "name": "stdout",
     "output_type": "stream",
     "text": [
      "<class 'bs4.element.ResultSet'>\n",
      "50\n"
     ]
    }
   ],
   "source": [
    "movie_containers = html_soup.find_all('div', class_ = 'lister-item mode-advanced')\n",
    "print(type(movie_containers))\n",
    "print(len(movie_containers))"
   ]
  },
  {
   "cell_type": "code",
   "execution_count": 5,
   "metadata": {},
   "outputs": [
    {
     "name": "stdout",
     "output_type": "stream",
     "text": [
      "<div class=\"lister-item mode-advanced\">\n",
      "<div class=\"lister-top-right\">\n",
      "<div class=\"ribbonize\" data-caller=\"filmosearch\" data-tconst=\"tt7286456\"></div>\n",
      "</div>\n",
      "<div class=\"lister-item-image float-left\">\n",
      "<a href=\"/title/tt7286456/\"> <img alt=\"Joker\" class=\"loadlate\" data-tconst=\"tt7286456\" height=\"98\" loadlate=\"https://m.media-amazon.com/images/M/MV5BNGVjNWI4ZGUtNzE0MS00YTJmLWE0ZDctN2ZiYTk2YmI3NTYyXkEyXkFqcGdeQXVyMTkxNjUyNQ@@._V1_UX67_CR0,0,67,98_AL_.jpg\" src=\"https://m.media-amazon.com/images/G/01/imdb/images/nopicture/large/film-184890147._CB466725069_.png\" width=\"67\"/>\n",
      "</a> </div>\n",
      "<div class=\"lister-item-content\">\n",
      "<h3 class=\"lister-item-header\">\n",
      "<span class=\"lister-item-index unbold text-primary\">1.</span>\n",
      "<a href=\"/title/tt7286456/\">Joker</a>\n",
      "<span class=\"lister-item-year text-muted unbold\">(2019)</span>\n",
      "</h3>\n",
      "<p class=\"text-muted\">\n",
      "<span class=\"certificate\">MA15+</span>\n",
      "<span class=\"ghost\">|</span>\n",
      "<span class=\"runtime\">122 min</span>\n",
      "<span class=\"ghost\">|</span>\n",
      "<span class=\"genre\">\n",
      "Crime, Drama, Thriller            </span>\n",
      "</p>\n",
      "<div class=\"ratings-bar\">\n",
      "<div class=\"inline-block ratings-imdb-rating\" data-value=\"8.5\" name=\"ir\">\n",
      "<span class=\"global-sprite rating-star imdb-rating\"></span>\n",
      "<strong>8.5</strong>\n",
      "</div>\n",
      "<div class=\"inline-block ratings-user-rating\">\n",
      "<span class=\"userRatingValue\" data-tconst=\"tt7286456\" id=\"urv_tt7286456\">\n",
      "<span class=\"global-sprite rating-star no-rating\"></span>\n",
      "<span class=\"rate\" data-no-rating=\"Rate this\" data-value=\"0\" name=\"ur\">Rate this</span>\n",
      "</span>\n",
      "<div class=\"starBarWidget\" id=\"sb_tt7286456\">\n",
      "<div class=\"rating rating-list\" data-auth=\"\" data-ga-identifier=\"\" data-starbar-class=\"rating-list\" data-user=\"\" id=\"tt7286456|imdb|8.5|8.5|adv_li_tt||advsearch|title\" itemprop=\"aggregateRating\" itemscope=\"\" itemtype=\"http://schema.org/AggregateRating\" title=\"Users rated this 8.5/10 (821,814 votes) - click stars to rate\">\n",
      "<meta content=\"8.5\" itemprop=\"ratingValue\"/>\n",
      "<meta content=\"10\" itemprop=\"bestRating\"/>\n",
      "<meta content=\"821814\" itemprop=\"ratingCount\"/>\n",
      "<span class=\"rating-bg\"> </span>\n",
      "<span class=\"rating-imdb\" style=\"width: 119px\"> </span>\n",
      "<span class=\"rating-stars\">\n",
      "<a href=\"/register/login?why=vote\" rel=\"nofollow\" title=\"Register or login to rate this title\"><span>1</span></a>\n",
      "<a href=\"/register/login?why=vote\" rel=\"nofollow\" title=\"Register or login to rate this title\"><span>2</span></a>\n",
      "<a href=\"/register/login?why=vote\" rel=\"nofollow\" title=\"Register or login to rate this title\"><span>3</span></a>\n",
      "<a href=\"/register/login?why=vote\" rel=\"nofollow\" title=\"Register or login to rate this title\"><span>4</span></a>\n",
      "<a href=\"/register/login?why=vote\" rel=\"nofollow\" title=\"Register or login to rate this title\"><span>5</span></a>\n",
      "<a href=\"/register/login?why=vote\" rel=\"nofollow\" title=\"Register or login to rate this title\"><span>6</span></a>\n",
      "<a href=\"/register/login?why=vote\" rel=\"nofollow\" title=\"Register or login to rate this title\"><span>7</span></a>\n",
      "<a href=\"/register/login?why=vote\" rel=\"nofollow\" title=\"Register or login to rate this title\"><span>8</span></a>\n",
      "<a href=\"/register/login?why=vote\" rel=\"nofollow\" title=\"Register or login to rate this title\"><span>9</span></a>\n",
      "<a href=\"/register/login?why=vote\" rel=\"nofollow\" title=\"Register or login to rate this title\"><span>10</span></a>\n",
      "</span>\n",
      "<span class=\"rating-rating\"><span class=\"value\">8.5</span><span class=\"grey\">/</span><span class=\"grey\">10</span></span>\n",
      "<span class=\"rating-cancel\"><a href=\"/title/tt7286456/vote?v=X;k=\" rel=\"nofollow\" title=\"Delete\"><span>X</span></a></span>\n",
      " </div>\n",
      "</div>\n",
      "</div>\n",
      "<div class=\"inline-block ratings-metascore\">\n",
      "<span class=\"metascore mixed\">59        </span>\n",
      "        Metascore\n",
      "            </div>\n",
      "</div>\n",
      "<p class=\"text-muted\">\n",
      "    In Gotham City, mentally troubled comedian Arthur Fleck is disregarded and mistreated by society. He then embarks on a downward spiral of revolution and bloody crime. This path brings him face-to-face with his alter-ego: the Joker.</p>\n",
      "<p class=\"\">\n",
      "    Director:\n",
      "<a href=\"/name/nm0680846/\">Todd Phillips</a>\n",
      "<span class=\"ghost\">|</span> \n",
      "    Stars:\n",
      "<a href=\"/name/nm0001618/\">Joaquin Phoenix</a>, \n",
      "<a href=\"/name/nm0000134/\">Robert De Niro</a>, \n",
      "<a href=\"/name/nm5939164/\">Zazie Beetz</a>, \n",
      "<a href=\"/name/nm0175814/\">Frances Conroy</a>\n",
      "</p>\n",
      "<p class=\"sort-num_votes-visible\">\n",
      "<span class=\"text-muted\">Votes:</span>\n",
      "<span data-value=\"821814\" name=\"nv\">821,814</span>\n",
      "<span class=\"ghost\">|</span> <span class=\"text-muted\">Gross:</span>\n",
      "<span data-value=\"335,451,311\" name=\"nv\">$335.45M</span>\n",
      "</p>\n",
      "</div>\n",
      "</div>\n"
     ]
    }
   ],
   "source": [
    "print(movie_containers[0])"
   ]
  },
  {
   "cell_type": "markdown",
   "metadata": {},
   "source": [
    "We will now analyse the first move from the list movie_container"
   ]
  },
  {
   "cell_type": "code",
   "execution_count": 10,
   "metadata": {},
   "outputs": [],
   "source": [
    "first_movie = movie_containers[0]"
   ]
  },
  {
   "cell_type": "code",
   "execution_count": 11,
   "metadata": {},
   "outputs": [
    {
     "data": {
      "text/plain": [
       "<div class=\"lister-top-right\">\n",
       "<div class=\"ribbonize\" data-caller=\"filmosearch\" data-tconst=\"tt7286456\"></div>\n",
       "</div>"
      ]
     },
     "execution_count": 11,
     "metadata": {},
     "output_type": "execute_result"
    }
   ],
   "source": [
    "first_movie.div"
   ]
  },
  {
   "cell_type": "code",
   "execution_count": 12,
   "metadata": {},
   "outputs": [
    {
     "data": {
      "text/plain": [
       "<a href=\"/title/tt7286456/\"> <img alt=\"Joker\" class=\"loadlate\" data-tconst=\"tt7286456\" height=\"98\" loadlate=\"https://m.media-amazon.com/images/M/MV5BNGVjNWI4ZGUtNzE0MS00YTJmLWE0ZDctN2ZiYTk2YmI3NTYyXkEyXkFqcGdeQXVyMTkxNjUyNQ@@._V1_UX67_CR0,0,67,98_AL_.jpg\" src=\"https://m.media-amazon.com/images/G/01/imdb/images/nopicture/large/film-184890147._CB466725069_.png\" width=\"67\"/>\n",
       "</a>"
      ]
     },
     "execution_count": 12,
     "metadata": {},
     "output_type": "execute_result"
    }
   ],
   "source": [
    "first_movie.a"
   ]
  },
  {
   "cell_type": "code",
   "execution_count": 13,
   "metadata": {},
   "outputs": [
    {
     "data": {
      "text/plain": [
       "<h3 class=\"lister-item-header\">\n",
       "<span class=\"lister-item-index unbold text-primary\">1.</span>\n",
       "<a href=\"/title/tt7286456/\">Joker</a>\n",
       "<span class=\"lister-item-year text-muted unbold\">(2019)</span>\n",
       "</h3>"
      ]
     },
     "execution_count": 13,
     "metadata": {},
     "output_type": "execute_result"
    }
   ],
   "source": [
    "first_movie.h3"
   ]
  },
  {
   "cell_type": "code",
   "execution_count": 14,
   "metadata": {},
   "outputs": [
    {
     "data": {
      "text/plain": [
       "<a href=\"/title/tt7286456/\">Joker</a>"
      ]
     },
     "execution_count": 14,
     "metadata": {},
     "output_type": "execute_result"
    }
   ],
   "source": [
    "first_movie.h3.a"
   ]
  },
  {
   "cell_type": "code",
   "execution_count": 15,
   "metadata": {},
   "outputs": [
    {
     "name": "stdout",
     "output_type": "stream",
     "text": [
      "Joker\n"
     ]
    }
   ],
   "source": [
    "first_name = first_movie.h3.a.text\n",
    "print(first_name)"
   ]
  },
  {
   "cell_type": "code",
   "execution_count": 16,
   "metadata": {},
   "outputs": [
    {
     "data": {
      "text/plain": [
       "<span class=\"lister-item-year text-muted unbold\">(2019)</span>"
      ]
     },
     "execution_count": 16,
     "metadata": {},
     "output_type": "execute_result"
    }
   ],
   "source": [
    "first_year = first_movie.h3.find('span', class_ = 'lister-item-year text-muted unbold')\n",
    "first_year"
   ]
  },
  {
   "cell_type": "code",
   "execution_count": 17,
   "metadata": {},
   "outputs": [
    {
     "name": "stdout",
     "output_type": "stream",
     "text": [
      "(2019)\n"
     ]
    }
   ],
   "source": [
    "first_year = first_year.text\n",
    "print(first_year)"
   ]
  },
  {
   "cell_type": "code",
   "execution_count": 18,
   "metadata": {},
   "outputs": [
    {
     "data": {
      "text/plain": [
       "<strong>8.5</strong>"
      ]
     },
     "execution_count": 18,
     "metadata": {},
     "output_type": "execute_result"
    }
   ],
   "source": [
    "first_movie.strong"
   ]
  },
  {
   "cell_type": "code",
   "execution_count": 19,
   "metadata": {},
   "outputs": [
    {
     "name": "stdout",
     "output_type": "stream",
     "text": [
      "8.5\n"
     ]
    }
   ],
   "source": [
    "first_imdb = float(first_movie.strong.text)\n",
    "print(first_imdb)"
   ]
  },
  {
   "cell_type": "code",
   "execution_count": 30,
   "metadata": {},
   "outputs": [],
   "source": [
    "first_mscore = first_movie.find('span', class_ = 'metascore mixed')"
   ]
  },
  {
   "cell_type": "code",
   "execution_count": 31,
   "metadata": {},
   "outputs": [
    {
     "name": "stdout",
     "output_type": "stream",
     "text": [
      "59\n"
     ]
    }
   ],
   "source": [
    "first_mscore = int(first_mscore.text)\n",
    "print(first_mscore)"
   ]
  },
  {
   "cell_type": "code",
   "execution_count": 32,
   "metadata": {},
   "outputs": [
    {
     "data": {
      "text/plain": [
       "<span data-value=\"821814\" name=\"nv\">821,814</span>"
      ]
     },
     "execution_count": 32,
     "metadata": {},
     "output_type": "execute_result"
    }
   ],
   "source": [
    "first_votes = first_movie.find('span', attrs = {'name':'nv'})\n",
    "first_votes"
   ]
  },
  {
   "cell_type": "code",
   "execution_count": 33,
   "metadata": {},
   "outputs": [
    {
     "data": {
      "text/plain": [
       "'821814'"
      ]
     },
     "execution_count": 33,
     "metadata": {},
     "output_type": "execute_result"
    }
   ],
   "source": [
    "first_votes['data-value']"
   ]
  },
  {
   "cell_type": "code",
   "execution_count": 34,
   "metadata": {},
   "outputs": [],
   "source": [
    "first_votes = int(first_votes['data-value'])"
   ]
  },
  {
   "cell_type": "code",
   "execution_count": 35,
   "metadata": {},
   "outputs": [
    {
     "name": "stdout",
     "output_type": "stream",
     "text": [
      "821814\n"
     ]
    }
   ],
   "source": [
    "print(first_votes)"
   ]
  },
  {
   "cell_type": "markdown",
   "metadata": {},
   "source": [
    "On analysing the first web page, we could observe that the fourth movie has no meta-score provided."
   ]
  },
  {
   "cell_type": "code",
   "execution_count": 36,
   "metadata": {},
   "outputs": [
    {
     "data": {
      "text/plain": [
       "NoneType"
      ]
     },
     "execution_count": 36,
     "metadata": {},
     "output_type": "execute_result"
    }
   ],
   "source": [
    "fourth_movie_mscore = movie_containers[3].find('div', class_ = 'ratings-metascore')\n",
    "type(fourth_movie_mscore)"
   ]
  },
  {
   "cell_type": "markdown",
   "metadata": {},
   "source": [
    "We will first declare some list variables to store the extracted data and loop through each container(movie) in movie_containers. We will then extract the data points of interest only if the container(movie) has a meta-score."
   ]
  },
  {
   "cell_type": "code",
   "execution_count": 38,
   "metadata": {},
   "outputs": [],
   "source": [
    "# Lists to store the scraped data in\n",
    "names = []\n",
    "years = []\n",
    "imdb_ratings = []\n",
    "metascores = []\n",
    "votes = []\n",
    "# Extract data from individual movie container\n",
    "for container in movie_containers:\n",
    "# If the movie has Metascore, then extract:\n",
    "    if container.find('div', class_ = 'ratings-metascore') is not None:\n",
    "        name = container.h3.a.text\n",
    "        names.append(name)\n",
    "        year = container.h3.find('span', class_ = 'lister-item-year').text\n",
    "        years.append(year)\n",
    "        imdb = float(container.strong.text)\n",
    "        imdb_ratings.append(imdb)\n",
    "        m_score = container.find('span', class_ = 'metascore').text\n",
    "        metascores.append(int(m_score))\n",
    "        vote = container.find('span', attrs = {'name':'nv'})['data-value']\n",
    "        votes.append(int(vote))"
   ]
  },
  {
   "cell_type": "markdown",
   "metadata": {},
   "source": [
    "We will use **pandas** to store it in a **DataFrame**"
   ]
  },
  {
   "cell_type": "code",
   "execution_count": 39,
   "metadata": {},
   "outputs": [
    {
     "name": "stdout",
     "output_type": "stream",
     "text": [
      "<class 'pandas.core.frame.DataFrame'>\n",
      "RangeIndex: 39 entries, 0 to 38\n",
      "Data columns (total 5 columns):\n",
      " #   Column     Non-Null Count  Dtype  \n",
      "---  ------     --------------  -----  \n",
      " 0   movie      39 non-null     object \n",
      " 1   year       39 non-null     object \n",
      " 2   imdb       39 non-null     float64\n",
      " 3   metascore  39 non-null     int64  \n",
      " 4   votes      39 non-null     int64  \n",
      "dtypes: float64(1), int64(2), object(2)\n",
      "memory usage: 1.6+ KB\n",
      "None\n"
     ]
    },
    {
     "data": {
      "text/html": [
       "<div>\n",
       "<style scoped>\n",
       "    .dataframe tbody tr th:only-of-type {\n",
       "        vertical-align: middle;\n",
       "    }\n",
       "\n",
       "    .dataframe tbody tr th {\n",
       "        vertical-align: top;\n",
       "    }\n",
       "\n",
       "    .dataframe thead th {\n",
       "        text-align: right;\n",
       "    }\n",
       "</style>\n",
       "<table border=\"1\" class=\"dataframe\">\n",
       "  <thead>\n",
       "    <tr style=\"text-align: right;\">\n",
       "      <th></th>\n",
       "      <th>movie</th>\n",
       "      <th>year</th>\n",
       "      <th>imdb</th>\n",
       "      <th>metascore</th>\n",
       "      <th>votes</th>\n",
       "    </tr>\n",
       "  </thead>\n",
       "  <tbody>\n",
       "    <tr>\n",
       "      <th>0</th>\n",
       "      <td>Joker</td>\n",
       "      <td>(2019)</td>\n",
       "      <td>8.5</td>\n",
       "      <td>59</td>\n",
       "      <td>821814</td>\n",
       "    </tr>\n",
       "    <tr>\n",
       "      <th>1</th>\n",
       "      <td>Avengers: Endgame</td>\n",
       "      <td>(2019)</td>\n",
       "      <td>8.4</td>\n",
       "      <td>78</td>\n",
       "      <td>735810</td>\n",
       "    </tr>\n",
       "    <tr>\n",
       "      <th>2</th>\n",
       "      <td>Once Upon a Time in Hollywood</td>\n",
       "      <td>(2019)</td>\n",
       "      <td>7.7</td>\n",
       "      <td>83</td>\n",
       "      <td>487644</td>\n",
       "    </tr>\n",
       "    <tr>\n",
       "      <th>3</th>\n",
       "      <td>Parasite</td>\n",
       "      <td>(2019)</td>\n",
       "      <td>8.6</td>\n",
       "      <td>96</td>\n",
       "      <td>441668</td>\n",
       "    </tr>\n",
       "    <tr>\n",
       "      <th>4</th>\n",
       "      <td>Captain Marvel</td>\n",
       "      <td>(2019)</td>\n",
       "      <td>6.9</td>\n",
       "      <td>64</td>\n",
       "      <td>416882</td>\n",
       "    </tr>\n",
       "    <tr>\n",
       "      <th>5</th>\n",
       "      <td>Knives Out</td>\n",
       "      <td>(2019)</td>\n",
       "      <td>7.9</td>\n",
       "      <td>82</td>\n",
       "      <td>340712</td>\n",
       "    </tr>\n",
       "    <tr>\n",
       "      <th>6</th>\n",
       "      <td>1917</td>\n",
       "      <td>(2019)</td>\n",
       "      <td>8.3</td>\n",
       "      <td>78</td>\n",
       "      <td>339122</td>\n",
       "    </tr>\n",
       "    <tr>\n",
       "      <th>7</th>\n",
       "      <td>Star Wars: The Rise of Skywalker</td>\n",
       "      <td>(2019)</td>\n",
       "      <td>6.7</td>\n",
       "      <td>53</td>\n",
       "      <td>337655</td>\n",
       "    </tr>\n",
       "    <tr>\n",
       "      <th>8</th>\n",
       "      <td>Spider-Man: Far from Home</td>\n",
       "      <td>(2019)</td>\n",
       "      <td>7.5</td>\n",
       "      <td>69</td>\n",
       "      <td>297468</td>\n",
       "    </tr>\n",
       "    <tr>\n",
       "      <th>9</th>\n",
       "      <td>The Irishman</td>\n",
       "      <td>(2019)</td>\n",
       "      <td>7.9</td>\n",
       "      <td>94</td>\n",
       "      <td>297028</td>\n",
       "    </tr>\n",
       "    <tr>\n",
       "      <th>10</th>\n",
       "      <td>John Wick: Chapter 3 - Parabellum</td>\n",
       "      <td>(2019)</td>\n",
       "      <td>7.5</td>\n",
       "      <td>73</td>\n",
       "      <td>251760</td>\n",
       "    </tr>\n",
       "    <tr>\n",
       "      <th>11</th>\n",
       "      <td>Shazam!</td>\n",
       "      <td>(2019)</td>\n",
       "      <td>7.1</td>\n",
       "      <td>71</td>\n",
       "      <td>235569</td>\n",
       "    </tr>\n",
       "    <tr>\n",
       "      <th>12</th>\n",
       "      <td>Jojo Rabbit</td>\n",
       "      <td>(2019)</td>\n",
       "      <td>7.9</td>\n",
       "      <td>58</td>\n",
       "      <td>234287</td>\n",
       "    </tr>\n",
       "    <tr>\n",
       "      <th>13</th>\n",
       "      <td>Ford v Ferrari</td>\n",
       "      <td>(2019)</td>\n",
       "      <td>8.1</td>\n",
       "      <td>81</td>\n",
       "      <td>231568</td>\n",
       "    </tr>\n",
       "    <tr>\n",
       "      <th>14</th>\n",
       "      <td>Marriage Story</td>\n",
       "      <td>(2019)</td>\n",
       "      <td>8.0</td>\n",
       "      <td>94</td>\n",
       "      <td>219572</td>\n",
       "    </tr>\n",
       "    <tr>\n",
       "      <th>15</th>\n",
       "      <td>Alita: Battle Angel</td>\n",
       "      <td>(2019)</td>\n",
       "      <td>7.3</td>\n",
       "      <td>53</td>\n",
       "      <td>212645</td>\n",
       "    </tr>\n",
       "    <tr>\n",
       "      <th>16</th>\n",
       "      <td>Aladdin</td>\n",
       "      <td>(2019)</td>\n",
       "      <td>7.0</td>\n",
       "      <td>53</td>\n",
       "      <td>210397</td>\n",
       "    </tr>\n",
       "    <tr>\n",
       "      <th>17</th>\n",
       "      <td>Us</td>\n",
       "      <td>(II) (2019)</td>\n",
       "      <td>6.9</td>\n",
       "      <td>81</td>\n",
       "      <td>204631</td>\n",
       "    </tr>\n",
       "    <tr>\n",
       "      <th>18</th>\n",
       "      <td>The Lion King</td>\n",
       "      <td>(2019)</td>\n",
       "      <td>6.9</td>\n",
       "      <td>55</td>\n",
       "      <td>195310</td>\n",
       "    </tr>\n",
       "    <tr>\n",
       "      <th>19</th>\n",
       "      <td>Glass</td>\n",
       "      <td>(2019)</td>\n",
       "      <td>6.7</td>\n",
       "      <td>43</td>\n",
       "      <td>194470</td>\n",
       "    </tr>\n",
       "    <tr>\n",
       "      <th>20</th>\n",
       "      <td>Uncut Gems</td>\n",
       "      <td>(2019)</td>\n",
       "      <td>7.5</td>\n",
       "      <td>90</td>\n",
       "      <td>186732</td>\n",
       "    </tr>\n",
       "    <tr>\n",
       "      <th>21</th>\n",
       "      <td>Toy Story 4</td>\n",
       "      <td>(2019)</td>\n",
       "      <td>7.8</td>\n",
       "      <td>84</td>\n",
       "      <td>184261</td>\n",
       "    </tr>\n",
       "    <tr>\n",
       "      <th>22</th>\n",
       "      <td>It Chapter Two</td>\n",
       "      <td>(2019)</td>\n",
       "      <td>6.6</td>\n",
       "      <td>58</td>\n",
       "      <td>183279</td>\n",
       "    </tr>\n",
       "    <tr>\n",
       "      <th>23</th>\n",
       "      <td>Ad Astra</td>\n",
       "      <td>(2019)</td>\n",
       "      <td>6.6</td>\n",
       "      <td>80</td>\n",
       "      <td>174967</td>\n",
       "    </tr>\n",
       "    <tr>\n",
       "      <th>24</th>\n",
       "      <td>El Camino: A Breaking Bad Movie</td>\n",
       "      <td>(2019)</td>\n",
       "      <td>7.3</td>\n",
       "      <td>72</td>\n",
       "      <td>167823</td>\n",
       "    </tr>\n",
       "    <tr>\n",
       "      <th>25</th>\n",
       "      <td>Midsommar</td>\n",
       "      <td>(2019)</td>\n",
       "      <td>7.1</td>\n",
       "      <td>72</td>\n",
       "      <td>165095</td>\n",
       "    </tr>\n",
       "    <tr>\n",
       "      <th>26</th>\n",
       "      <td>The Gentlemen</td>\n",
       "      <td>(2019)</td>\n",
       "      <td>7.9</td>\n",
       "      <td>51</td>\n",
       "      <td>157086</td>\n",
       "    </tr>\n",
       "    <tr>\n",
       "      <th>27</th>\n",
       "      <td>Jumanji: The Next Level</td>\n",
       "      <td>(2019)</td>\n",
       "      <td>6.7</td>\n",
       "      <td>58</td>\n",
       "      <td>155511</td>\n",
       "    </tr>\n",
       "    <tr>\n",
       "      <th>28</th>\n",
       "      <td>Fast &amp; Furious Presents: Hobbs &amp; Shaw</td>\n",
       "      <td>(2019)</td>\n",
       "      <td>6.4</td>\n",
       "      <td>60</td>\n",
       "      <td>154760</td>\n",
       "    </tr>\n",
       "    <tr>\n",
       "      <th>29</th>\n",
       "      <td>X-Men: Dark Phoenix</td>\n",
       "      <td>(2019)</td>\n",
       "      <td>5.8</td>\n",
       "      <td>43</td>\n",
       "      <td>142095</td>\n",
       "    </tr>\n",
       "    <tr>\n",
       "      <th>30</th>\n",
       "      <td>The Platform</td>\n",
       "      <td>(2019)</td>\n",
       "      <td>7.0</td>\n",
       "      <td>73</td>\n",
       "      <td>135750</td>\n",
       "    </tr>\n",
       "    <tr>\n",
       "      <th>31</th>\n",
       "      <td>Pokemon: Detective Pikachu</td>\n",
       "      <td>(2019)</td>\n",
       "      <td>6.6</td>\n",
       "      <td>53</td>\n",
       "      <td>127585</td>\n",
       "    </tr>\n",
       "    <tr>\n",
       "      <th>32</th>\n",
       "      <td>Terminator: Dark Fate</td>\n",
       "      <td>(2019)</td>\n",
       "      <td>6.3</td>\n",
       "      <td>54</td>\n",
       "      <td>125026</td>\n",
       "    </tr>\n",
       "    <tr>\n",
       "      <th>33</th>\n",
       "      <td>6 Underground</td>\n",
       "      <td>(2019)</td>\n",
       "      <td>6.1</td>\n",
       "      <td>41</td>\n",
       "      <td>124861</td>\n",
       "    </tr>\n",
       "    <tr>\n",
       "      <th>34</th>\n",
       "      <td>Godzilla: King of the Monsters</td>\n",
       "      <td>(2019)</td>\n",
       "      <td>6.0</td>\n",
       "      <td>48</td>\n",
       "      <td>122228</td>\n",
       "    </tr>\n",
       "    <tr>\n",
       "      <th>35</th>\n",
       "      <td>Rocketman</td>\n",
       "      <td>(I) (2019)</td>\n",
       "      <td>7.3</td>\n",
       "      <td>69</td>\n",
       "      <td>120323</td>\n",
       "    </tr>\n",
       "    <tr>\n",
       "      <th>36</th>\n",
       "      <td>Zombieland: Double Tap</td>\n",
       "      <td>(2019)</td>\n",
       "      <td>6.7</td>\n",
       "      <td>55</td>\n",
       "      <td>115627</td>\n",
       "    </tr>\n",
       "    <tr>\n",
       "      <th>37</th>\n",
       "      <td>Frozen II</td>\n",
       "      <td>(2019)</td>\n",
       "      <td>6.9</td>\n",
       "      <td>64</td>\n",
       "      <td>114984</td>\n",
       "    </tr>\n",
       "    <tr>\n",
       "      <th>38</th>\n",
       "      <td>Little Women</td>\n",
       "      <td>(2019)</td>\n",
       "      <td>7.9</td>\n",
       "      <td>91</td>\n",
       "      <td>113443</td>\n",
       "    </tr>\n",
       "  </tbody>\n",
       "</table>\n",
       "</div>"
      ],
      "text/plain": [
       "                                    movie         year  imdb  metascore  \\\n",
       "0                                   Joker       (2019)   8.5         59   \n",
       "1                       Avengers: Endgame       (2019)   8.4         78   \n",
       "2           Once Upon a Time in Hollywood       (2019)   7.7         83   \n",
       "3                                Parasite       (2019)   8.6         96   \n",
       "4                          Captain Marvel       (2019)   6.9         64   \n",
       "5                              Knives Out       (2019)   7.9         82   \n",
       "6                                    1917       (2019)   8.3         78   \n",
       "7        Star Wars: The Rise of Skywalker       (2019)   6.7         53   \n",
       "8               Spider-Man: Far from Home       (2019)   7.5         69   \n",
       "9                            The Irishman       (2019)   7.9         94   \n",
       "10      John Wick: Chapter 3 - Parabellum       (2019)   7.5         73   \n",
       "11                                Shazam!       (2019)   7.1         71   \n",
       "12                            Jojo Rabbit       (2019)   7.9         58   \n",
       "13                         Ford v Ferrari       (2019)   8.1         81   \n",
       "14                         Marriage Story       (2019)   8.0         94   \n",
       "15                    Alita: Battle Angel       (2019)   7.3         53   \n",
       "16                                Aladdin       (2019)   7.0         53   \n",
       "17                                     Us  (II) (2019)   6.9         81   \n",
       "18                          The Lion King       (2019)   6.9         55   \n",
       "19                                  Glass       (2019)   6.7         43   \n",
       "20                             Uncut Gems       (2019)   7.5         90   \n",
       "21                            Toy Story 4       (2019)   7.8         84   \n",
       "22                         It Chapter Two       (2019)   6.6         58   \n",
       "23                               Ad Astra       (2019)   6.6         80   \n",
       "24        El Camino: A Breaking Bad Movie       (2019)   7.3         72   \n",
       "25                              Midsommar       (2019)   7.1         72   \n",
       "26                          The Gentlemen       (2019)   7.9         51   \n",
       "27                Jumanji: The Next Level       (2019)   6.7         58   \n",
       "28  Fast & Furious Presents: Hobbs & Shaw       (2019)   6.4         60   \n",
       "29                    X-Men: Dark Phoenix       (2019)   5.8         43   \n",
       "30                           The Platform       (2019)   7.0         73   \n",
       "31             Pokemon: Detective Pikachu       (2019)   6.6         53   \n",
       "32                  Terminator: Dark Fate       (2019)   6.3         54   \n",
       "33                          6 Underground       (2019)   6.1         41   \n",
       "34         Godzilla: King of the Monsters       (2019)   6.0         48   \n",
       "35                              Rocketman   (I) (2019)   7.3         69   \n",
       "36                 Zombieland: Double Tap       (2019)   6.7         55   \n",
       "37                              Frozen II       (2019)   6.9         64   \n",
       "38                           Little Women       (2019)   7.9         91   \n",
       "\n",
       "     votes  \n",
       "0   821814  \n",
       "1   735810  \n",
       "2   487644  \n",
       "3   441668  \n",
       "4   416882  \n",
       "5   340712  \n",
       "6   339122  \n",
       "7   337655  \n",
       "8   297468  \n",
       "9   297028  \n",
       "10  251760  \n",
       "11  235569  \n",
       "12  234287  \n",
       "13  231568  \n",
       "14  219572  \n",
       "15  212645  \n",
       "16  210397  \n",
       "17  204631  \n",
       "18  195310  \n",
       "19  194470  \n",
       "20  186732  \n",
       "21  184261  \n",
       "22  183279  \n",
       "23  174967  \n",
       "24  167823  \n",
       "25  165095  \n",
       "26  157086  \n",
       "27  155511  \n",
       "28  154760  \n",
       "29  142095  \n",
       "30  135750  \n",
       "31  127585  \n",
       "32  125026  \n",
       "33  124861  \n",
       "34  122228  \n",
       "35  120323  \n",
       "36  115627  \n",
       "37  114984  \n",
       "38  113443  "
      ]
     },
     "execution_count": 39,
     "metadata": {},
     "output_type": "execute_result"
    }
   ],
   "source": [
    "import pandas as pd\n",
    "test_df = pd.DataFrame({'movie': names,'year': years,'imdb': imdb_ratings,'metascore': metascores,'votes': votes})\n",
    "print(test_df.info())\n",
    "test_df"
   ]
  },
  {
   "cell_type": "markdown",
   "metadata": {},
   "source": [
    "We will now scrap data from first 5 pages."
   ]
  },
  {
   "cell_type": "code",
   "execution_count": 40,
   "metadata": {},
   "outputs": [],
   "source": [
    "pages = [str(i) for i in range(1,5)]\n",
    "years_url = [str(i) for i in range(2000,2020)]"
   ]
  },
  {
   "cell_type": "code",
   "execution_count": 44,
   "metadata": {},
   "outputs": [],
   "source": [
    "from time import sleep\n",
    "from random import randint"
   ]
  },
  {
   "cell_type": "code",
   "execution_count": 52,
   "metadata": {},
   "outputs": [],
   "source": [
    "from time import time\n",
    "from IPython.core.display import clear_output\n",
    "from warnings import warn"
   ]
  },
  {
   "cell_type": "markdown",
   "metadata": {},
   "source": [
    "We will now control the crawl rate by using **sleep()** function.We will also use **randit()** fucntion to mimic human behavior."
   ]
  },
  {
   "cell_type": "code",
   "execution_count": 54,
   "metadata": {},
   "outputs": [
    {
     "name": "stderr",
     "output_type": "stream",
     "text": [
      "/Users/abhishekdas/opt/anaconda3/lib/python3.7/site-packages/ipykernel_launcher.py:37: UserWarning: Number of requests was greater than expected.\n"
     ]
    },
    {
     "name": "stdout",
     "output_type": "stream",
     "text": [
      "Request:74; Frequency: 0.07538665106386494 requests/s\n"
     ]
    }
   ],
   "source": [
    "# Redeclaring the lists to store data in\n",
    "names = []\n",
    "years = []\n",
    "imdb_ratings = []\n",
    "metascores = []\n",
    "votes = []\n",
    "\n",
    "# Preparing the monitoring of the loop\n",
    "start_time = time()\n",
    "requests = 0\n",
    "\n",
    "# For every year in the interval 2000-2017\n",
    "for year_url in years_url:\n",
    "\n",
    "    # For every page in the interval 1-4\n",
    "    for page in pages:\n",
    "\n",
    "        # Make a get request\n",
    "        response = get('http://www.imdb.com/search/title?release_date=' + year_url +\n",
    "        '&sort=num_votes,desc&page=' + page)\n",
    "\n",
    "        # Pause the loop\n",
    "        sleep(randint(8,15))\n",
    "\n",
    "        # Monitor the requests\n",
    "        requests += 1\n",
    "        elapsed_time = time() - start_time\n",
    "        print('Request:{}; Frequency: {} requests/s'.format(requests, requests/elapsed_time))\n",
    "        clear_output(wait = True)\n",
    "\n",
    "        # Throw a warning for non-200 status codes\n",
    "        if response.status_code != 200:\n",
    "            warn('Request: {}; Status code: {}'.format(requests, response.status_code))\n",
    "\n",
    "        # Break the loop if the number of requests is greater than expected\n",
    "        if requests > 72:\n",
    "            warn('Number of requests was greater than expected.')\n",
    "            break\n",
    "\n",
    "        # Parse the content of the request with BeautifulSoup\n",
    "        page_html = BeautifulSoup(response.text, 'html.parser')\n",
    "\n",
    "        # Select all the 50 movie containers from a single page\n",
    "        mv_containers = page_html.find_all('div', class_ = 'lister-item mode-advanced')\n",
    "\n",
    "        # For every movie of these 50\n",
    "        for container in mv_containers:\n",
    "            # If the movie has a Metascore, then:\n",
    "            if container.find('div', class_ = 'ratings-metascore') is not None:\n",
    "\n",
    "                \n",
    "                name = container.h3.a.text\n",
    "                names.append(name)\n",
    "\n",
    "                \n",
    "                year = container.h3.find('span', class_ = 'lister-item-year').text\n",
    "                years.append(year)\n",
    "\n",
    "                \n",
    "                imdb = float(container.strong.text)\n",
    "                imdb_ratings.append(imdb)\n",
    "\n",
    "                \n",
    "                m_score = container.find('span', class_ = 'metascore').text\n",
    "                metascores.append(int(m_score))\n",
    "\n",
    "                \n",
    "                vote = container.find('span', attrs = {'name':'nv'})['data-value']\n",
    "                votes.append(int(vote))"
   ]
  },
  {
   "cell_type": "markdown",
   "metadata": {},
   "source": [
    "We will now merge the data into our DataFrame."
   ]
  },
  {
   "cell_type": "code",
   "execution_count": 55,
   "metadata": {},
   "outputs": [
    {
     "name": "stdout",
     "output_type": "stream",
     "text": [
      "<class 'pandas.core.frame.DataFrame'>\n",
      "RangeIndex: 3276 entries, 0 to 3275\n",
      "Data columns (total 5 columns):\n",
      " #   Column     Non-Null Count  Dtype  \n",
      "---  ------     --------------  -----  \n",
      " 0   movie      3276 non-null   object \n",
      " 1   year       3276 non-null   object \n",
      " 2   imdb       3276 non-null   float64\n",
      " 3   metascore  3276 non-null   int64  \n",
      " 4   votes      3276 non-null   int64  \n",
      "dtypes: float64(1), int64(2), object(2)\n",
      "memory usage: 128.1+ KB\n",
      "None\n"
     ]
    },
    {
     "data": {
      "text/html": [
       "<div>\n",
       "<style scoped>\n",
       "    .dataframe tbody tr th:only-of-type {\n",
       "        vertical-align: middle;\n",
       "    }\n",
       "\n",
       "    .dataframe tbody tr th {\n",
       "        vertical-align: top;\n",
       "    }\n",
       "\n",
       "    .dataframe thead th {\n",
       "        text-align: right;\n",
       "    }\n",
       "</style>\n",
       "<table border=\"1\" class=\"dataframe\">\n",
       "  <thead>\n",
       "    <tr style=\"text-align: right;\">\n",
       "      <th></th>\n",
       "      <th>movie</th>\n",
       "      <th>year</th>\n",
       "      <th>imdb</th>\n",
       "      <th>metascore</th>\n",
       "      <th>votes</th>\n",
       "    </tr>\n",
       "  </thead>\n",
       "  <tbody>\n",
       "    <tr>\n",
       "      <th>0</th>\n",
       "      <td>Gladiator</td>\n",
       "      <td>(2000)</td>\n",
       "      <td>8.5</td>\n",
       "      <td>67</td>\n",
       "      <td>1297492</td>\n",
       "    </tr>\n",
       "    <tr>\n",
       "      <th>1</th>\n",
       "      <td>Memento</td>\n",
       "      <td>(2000)</td>\n",
       "      <td>8.4</td>\n",
       "      <td>80</td>\n",
       "      <td>1090155</td>\n",
       "    </tr>\n",
       "    <tr>\n",
       "      <th>2</th>\n",
       "      <td>Snatch</td>\n",
       "      <td>(2000)</td>\n",
       "      <td>8.3</td>\n",
       "      <td>55</td>\n",
       "      <td>761575</td>\n",
       "    </tr>\n",
       "    <tr>\n",
       "      <th>3</th>\n",
       "      <td>Requiem for a Dream</td>\n",
       "      <td>(2000)</td>\n",
       "      <td>8.3</td>\n",
       "      <td>68</td>\n",
       "      <td>743113</td>\n",
       "    </tr>\n",
       "    <tr>\n",
       "      <th>4</th>\n",
       "      <td>X-Men</td>\n",
       "      <td>(2000)</td>\n",
       "      <td>7.4</td>\n",
       "      <td>64</td>\n",
       "      <td>559207</td>\n",
       "    </tr>\n",
       "    <tr>\n",
       "      <th>5</th>\n",
       "      <td>Cast Away</td>\n",
       "      <td>(2000)</td>\n",
       "      <td>7.8</td>\n",
       "      <td>73</td>\n",
       "      <td>506290</td>\n",
       "    </tr>\n",
       "    <tr>\n",
       "      <th>6</th>\n",
       "      <td>American Psycho</td>\n",
       "      <td>(2000)</td>\n",
       "      <td>7.6</td>\n",
       "      <td>64</td>\n",
       "      <td>467841</td>\n",
       "    </tr>\n",
       "    <tr>\n",
       "      <th>7</th>\n",
       "      <td>Unbreakable</td>\n",
       "      <td>(2000)</td>\n",
       "      <td>7.3</td>\n",
       "      <td>62</td>\n",
       "      <td>377913</td>\n",
       "    </tr>\n",
       "    <tr>\n",
       "      <th>8</th>\n",
       "      <td>Mission: Impossible II</td>\n",
       "      <td>(2000)</td>\n",
       "      <td>6.1</td>\n",
       "      <td>59</td>\n",
       "      <td>306371</td>\n",
       "    </tr>\n",
       "    <tr>\n",
       "      <th>9</th>\n",
       "      <td>Meet the Parents</td>\n",
       "      <td>(2000)</td>\n",
       "      <td>7.0</td>\n",
       "      <td>73</td>\n",
       "      <td>304704</td>\n",
       "    </tr>\n",
       "  </tbody>\n",
       "</table>\n",
       "</div>"
      ],
      "text/plain": [
       "                    movie    year  imdb  metascore    votes\n",
       "0               Gladiator  (2000)   8.5         67  1297492\n",
       "1                 Memento  (2000)   8.4         80  1090155\n",
       "2                  Snatch  (2000)   8.3         55   761575\n",
       "3     Requiem for a Dream  (2000)   8.3         68   743113\n",
       "4                   X-Men  (2000)   7.4         64   559207\n",
       "5               Cast Away  (2000)   7.8         73   506290\n",
       "6         American Psycho  (2000)   7.6         64   467841\n",
       "7             Unbreakable  (2000)   7.3         62   377913\n",
       "8  Mission: Impossible II  (2000)   6.1         59   306371\n",
       "9        Meet the Parents  (2000)   7.0         73   304704"
      ]
     },
     "execution_count": 55,
     "metadata": {},
     "output_type": "execute_result"
    }
   ],
   "source": [
    "movie_ratings = pd.DataFrame({'movie': names,'year': years,'imdb': imdb_ratings,'metascore': metascores,'votes': votes})\n",
    "print(movie_ratings.info())\n",
    "movie_ratings.head(10)"
   ]
  },
  {
   "cell_type": "code",
   "execution_count": 56,
   "metadata": {},
   "outputs": [
    {
     "data": {
      "text/html": [
       "<div>\n",
       "<style scoped>\n",
       "    .dataframe tbody tr th:only-of-type {\n",
       "        vertical-align: middle;\n",
       "    }\n",
       "\n",
       "    .dataframe tbody tr th {\n",
       "        vertical-align: top;\n",
       "    }\n",
       "\n",
       "    .dataframe thead th {\n",
       "        text-align: right;\n",
       "    }\n",
       "</style>\n",
       "<table border=\"1\" class=\"dataframe\">\n",
       "  <thead>\n",
       "    <tr style=\"text-align: right;\">\n",
       "      <th></th>\n",
       "      <th>movie</th>\n",
       "      <th>year</th>\n",
       "      <th>imdb</th>\n",
       "      <th>metascore</th>\n",
       "      <th>votes</th>\n",
       "    </tr>\n",
       "  </thead>\n",
       "  <tbody>\n",
       "    <tr>\n",
       "      <th>0</th>\n",
       "      <td>Gladiator</td>\n",
       "      <td>(2000)</td>\n",
       "      <td>8.5</td>\n",
       "      <td>67</td>\n",
       "      <td>1297492</td>\n",
       "    </tr>\n",
       "    <tr>\n",
       "      <th>1</th>\n",
       "      <td>Memento</td>\n",
       "      <td>(2000)</td>\n",
       "      <td>8.4</td>\n",
       "      <td>80</td>\n",
       "      <td>1090155</td>\n",
       "    </tr>\n",
       "    <tr>\n",
       "      <th>2</th>\n",
       "      <td>Snatch</td>\n",
       "      <td>(2000)</td>\n",
       "      <td>8.3</td>\n",
       "      <td>55</td>\n",
       "      <td>761575</td>\n",
       "    </tr>\n",
       "    <tr>\n",
       "      <th>3</th>\n",
       "      <td>Requiem for a Dream</td>\n",
       "      <td>(2000)</td>\n",
       "      <td>8.3</td>\n",
       "      <td>68</td>\n",
       "      <td>743113</td>\n",
       "    </tr>\n",
       "    <tr>\n",
       "      <th>4</th>\n",
       "      <td>X-Men</td>\n",
       "      <td>(2000)</td>\n",
       "      <td>7.4</td>\n",
       "      <td>64</td>\n",
       "      <td>559207</td>\n",
       "    </tr>\n",
       "  </tbody>\n",
       "</table>\n",
       "</div>"
      ],
      "text/plain": [
       "                 movie    year  imdb  metascore    votes\n",
       "0            Gladiator  (2000)   8.5         67  1297492\n",
       "1              Memento  (2000)   8.4         80  1090155\n",
       "2               Snatch  (2000)   8.3         55   761575\n",
       "3  Requiem for a Dream  (2000)   8.3         68   743113\n",
       "4                X-Men  (2000)   7.4         64   559207"
      ]
     },
     "execution_count": 56,
     "metadata": {},
     "output_type": "execute_result"
    }
   ],
   "source": [
    "movie_ratings = movie_ratings[['movie', 'year', 'imdb', 'metascore', 'votes']]\n",
    "movie_ratings.head()"
   ]
  },
  {
   "cell_type": "markdown",
   "metadata": {},
   "source": [
    "We will now examine the unique values of the year column."
   ]
  },
  {
   "cell_type": "code",
   "execution_count": 57,
   "metadata": {},
   "outputs": [
    {
     "data": {
      "text/plain": [
       "array(['(2000)', '(I) (2000)', '(2001)', '(2002)', '(2003)', '(2004)',\n",
       "       '(I) (2004)', '(2005)', '(I) (2005)', '(2006)', '(I) (2006)',\n",
       "       '(2007)', '(I) (2007)', '(2008)', '(I) (2008)', '(2009)',\n",
       "       '(I) (2009)', '(2010)', '(I) (2010)', '(2011)', '(I) (2011)',\n",
       "       '(2012)', '(I) (2012)', '(2013)', '(I) (2013)', '(2014)',\n",
       "       '(I) (2014)', '(II) (2014)', '(2015)', '(I) (2015)', '(II) (2015)',\n",
       "       '(2016)', '(II) (2016)', '(IX) (2016)', '(I) (2016)', '(2017)',\n",
       "       '(I) (2017)'], dtype=object)"
      ]
     },
     "execution_count": 57,
     "metadata": {},
     "output_type": "execute_result"
    }
   ],
   "source": [
    "movie_ratings['year'].unique()"
   ]
  },
  {
   "cell_type": "markdown",
   "metadata": {},
   "source": [
    "Counting from the end toward beginning, we can see that the years are always located from the fifth character to the second. We’ll use the **.str()** method to select only that interval. We’ll also convert the result to an integer using the **astype()** method."
   ]
  },
  {
   "cell_type": "code",
   "execution_count": 58,
   "metadata": {},
   "outputs": [],
   "source": [
    "movie_ratings.loc[:, 'year'] = movie_ratings['year'].str[-5:-1].astype(int)"
   ]
  },
  {
   "cell_type": "code",
   "execution_count": 59,
   "metadata": {},
   "outputs": [
    {
     "data": {
      "text/plain": [
       "0    2000\n",
       "1    2000\n",
       "2    2000\n",
       "Name: year, dtype: int64"
      ]
     },
     "execution_count": 59,
     "metadata": {},
     "output_type": "execute_result"
    }
   ],
   "source": [
    "movie_ratings['year'].head(3)"
   ]
  },
  {
   "cell_type": "code",
   "execution_count": 60,
   "metadata": {},
   "outputs": [
    {
     "data": {
      "text/html": [
       "<div>\n",
       "<style scoped>\n",
       "    .dataframe tbody tr th:only-of-type {\n",
       "        vertical-align: middle;\n",
       "    }\n",
       "\n",
       "    .dataframe tbody tr th {\n",
       "        vertical-align: top;\n",
       "    }\n",
       "\n",
       "    .dataframe thead th {\n",
       "        text-align: right;\n",
       "    }\n",
       "</style>\n",
       "<table border=\"1\" class=\"dataframe\">\n",
       "  <thead>\n",
       "    <tr style=\"text-align: right;\">\n",
       "      <th></th>\n",
       "      <th>imdb</th>\n",
       "      <th>metascore</th>\n",
       "    </tr>\n",
       "  </thead>\n",
       "  <tbody>\n",
       "    <tr>\n",
       "      <th>min</th>\n",
       "      <td>4.1</td>\n",
       "      <td>24.0</td>\n",
       "    </tr>\n",
       "    <tr>\n",
       "      <th>max</th>\n",
       "      <td>9.0</td>\n",
       "      <td>100.0</td>\n",
       "    </tr>\n",
       "  </tbody>\n",
       "</table>\n",
       "</div>"
      ],
      "text/plain": [
       "     imdb  metascore\n",
       "min   4.1       24.0\n",
       "max   9.0      100.0"
      ]
     },
     "execution_count": 60,
     "metadata": {},
     "output_type": "execute_result"
    }
   ],
   "source": [
    "movie_ratings.describe().loc[['min', 'max'], ['imdb', 'metascore']]"
   ]
  },
  {
   "cell_type": "code",
   "execution_count": 61,
   "metadata": {},
   "outputs": [
    {
     "data": {
      "text/html": [
       "<div>\n",
       "<style scoped>\n",
       "    .dataframe tbody tr th:only-of-type {\n",
       "        vertical-align: middle;\n",
       "    }\n",
       "\n",
       "    .dataframe tbody tr th {\n",
       "        vertical-align: top;\n",
       "    }\n",
       "\n",
       "    .dataframe thead th {\n",
       "        text-align: right;\n",
       "    }\n",
       "</style>\n",
       "<table border=\"1\" class=\"dataframe\">\n",
       "  <thead>\n",
       "    <tr style=\"text-align: right;\">\n",
       "      <th></th>\n",
       "      <th>movie</th>\n",
       "      <th>year</th>\n",
       "      <th>imdb</th>\n",
       "      <th>metascore</th>\n",
       "      <th>votes</th>\n",
       "      <th>n_imdb</th>\n",
       "    </tr>\n",
       "  </thead>\n",
       "  <tbody>\n",
       "    <tr>\n",
       "      <th>0</th>\n",
       "      <td>Gladiator</td>\n",
       "      <td>2000</td>\n",
       "      <td>8.5</td>\n",
       "      <td>67</td>\n",
       "      <td>1297492</td>\n",
       "      <td>85.0</td>\n",
       "    </tr>\n",
       "    <tr>\n",
       "      <th>1</th>\n",
       "      <td>Memento</td>\n",
       "      <td>2000</td>\n",
       "      <td>8.4</td>\n",
       "      <td>80</td>\n",
       "      <td>1090155</td>\n",
       "      <td>84.0</td>\n",
       "    </tr>\n",
       "    <tr>\n",
       "      <th>2</th>\n",
       "      <td>Snatch</td>\n",
       "      <td>2000</td>\n",
       "      <td>8.3</td>\n",
       "      <td>55</td>\n",
       "      <td>761575</td>\n",
       "      <td>83.0</td>\n",
       "    </tr>\n",
       "  </tbody>\n",
       "</table>\n",
       "</div>"
      ],
      "text/plain": [
       "       movie  year  imdb  metascore    votes  n_imdb\n",
       "0  Gladiator  2000   8.5         67  1297492    85.0\n",
       "1    Memento  2000   8.4         80  1090155    84.0\n",
       "2     Snatch  2000   8.3         55   761575    83.0"
      ]
     },
     "execution_count": 61,
     "metadata": {},
     "output_type": "execute_result"
    }
   ],
   "source": [
    "movie_ratings['n_imdb'] = movie_ratings['imdb'] * 10\n",
    "movie_ratings.head(3)"
   ]
  },
  {
   "cell_type": "markdown",
   "metadata": {},
   "source": [
    "We will save our data into **.csv** file for future anlysis or reporting."
   ]
  },
  {
   "cell_type": "code",
   "execution_count": 62,
   "metadata": {},
   "outputs": [],
   "source": [
    "movie_ratings.to_csv('movie_ratings.csv')"
   ]
  },
  {
   "cell_type": "code",
   "execution_count": null,
   "metadata": {},
   "outputs": [],
   "source": []
  }
 ],
 "metadata": {
  "kernelspec": {
   "display_name": "Python 3",
   "language": "python",
   "name": "python3"
  },
  "language_info": {
   "codemirror_mode": {
    "name": "ipython",
    "version": 3
   },
   "file_extension": ".py",
   "mimetype": "text/x-python",
   "name": "python",
   "nbconvert_exporter": "python",
   "pygments_lexer": "ipython3",
   "version": "3.7.6"
  }
 },
 "nbformat": 4,
 "nbformat_minor": 4
}
